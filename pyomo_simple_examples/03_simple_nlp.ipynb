{
 "cells": [
  {
   "cell_type": "markdown",
   "id": "ec29a7ef",
   "metadata": {},
   "source": [
    "$$ \n",
    "max\\ 2x_1 + 3x_2 \\\\\n",
    "s.t.\\ 3x_1^2 + 4x_2 <= 10 \\\\\n",
    "x_1, x_2 >0\n",
    "$$ "
   ]
  },
  {
   "cell_type": "markdown",
   "id": "21be3c4a",
   "metadata": {},
   "source": [
    "# 1. Import libraries"
   ]
  },
  {
   "cell_type": "code",
   "execution_count": 59,
   "id": "8b0abfc1",
   "metadata": {},
   "outputs": [],
   "source": [
    "import itertools \n",
    "\n",
    "import pyomo.environ as pe\n",
    "import matplotlib.pyplot as plt\n",
    "import numpy as np"
   ]
  },
  {
   "cell_type": "markdown",
   "id": "38167b01",
   "metadata": {},
   "source": [
    "# 2. Visualise simple problem"
   ]
  },
  {
   "cell_type": "code",
   "execution_count": 61,
   "id": "1c008b86",
   "metadata": {},
   "outputs": [
    {
     "data": {
      "image/png": "[encoded data removed]",
      "text/plain": [
       "<Figure size 864x576 with 1 Axes>"
      ]
     },
     "metadata": {
      "needs_background": "light"
     },
     "output_type": "display_data"
    }
   ],
   "source": [
    "plt.figure(figsize=(12, 8))\n",
    "\n",
    "# draw constraints\n",
    "# 𝑥1,𝑥2>0\n",
    "plt.axvline(x=0, c=\"blue\", label=\"x_1 >0\")\n",
    "plt.axhline(y=0, c=\"orange\", label=\"x_2 >0\")\n",
    "\n",
    "# constraint 3𝑥_1 * 𝑥_2 <=10\n",
    "x1 = np.arange(-1, 3, 0.1)\n",
    "x2 = [(10-3*x**2)/4 for x in x1]\n",
    "plt.plot(x1, x2, c=\"black\", label=\"3x_1 + 4x_2 <= 10\")\n",
    "\n",
    "# traingle of possible solutions\n",
    "plt.fill_between(x1, x2, 0, where=((x1>=-0.0001) & (x1<=np.sqrt(10/3))), \n",
    "                 color=\"green\", alpha=0.5, label=\"Feasible region\")\n",
    "\n",
    "# plot config\n",
    "plt.xlim(-1, 3)\n",
    "plt.ylim(-1.1, 6.1)\n",
    "plt.xlabel(\"x1\", size=14)\n",
    "plt.ylabel(\"x2\", size=14)\n",
    "plt.legend()\n",
    "plt.show()"
   ]
  },
  {
   "cell_type": "markdown",
   "id": "6fc00085",
   "metadata": {},
   "source": [
    "# 3. Formulate problem"
   ]
  },
  {
   "cell_type": "markdown",
   "id": "3bdb3c97",
   "metadata": {},
   "source": [
    "## 3.1 Define model, objective and constraints"
   ]
  },
  {
   "cell_type": "code",
   "execution_count": 62,
   "id": "c0fb914e",
   "metadata": {},
   "outputs": [],
   "source": [
    "# instantiate a concrete model\n",
    "model = pe.ConcreteModel()\n",
    "\n",
    "# define sets\n",
    "model.dims = pe.Set(initialize=[1, 2], domain=pe.NonNegativeReals)\n",
    "\n",
    "# create variables (the ones we want to find a solution for)\n",
    "model.x = pe.Var(model.dims, domain=pe.NonNegativeIntegers)\n",
    "\n",
    "# define objective\n",
    "model.OBJ = pe.Objective(expr=2*model.x[1] + 3*model.x[2], sense=pe.maximize)\n",
    "\n",
    "# define constraints\n",
    "model.Constraint1 = pe.Constraint(expr=3*model.x[1]**2 + 4*model.x[2] <= 10)"
   ]
  },
  {
   "cell_type": "code",
   "execution_count": 63,
   "id": "b4959bee",
   "metadata": {},
   "outputs": [
    {
     "name": "stdout",
     "output_type": "stream",
     "text": [
      "Defined model\n",
      "====================\n",
      "1 Set Declarations\n",
      "    dims : Size=1, Index=None, Ordered=Insertion\n",
      "        Key  : Dimen : Domain           : Size : Members\n",
      "        None :     1 : NonNegativeReals :    2 : {1, 2}\n",
      "\n",
      "1 Var Declarations\n",
      "    x : Size=2, Index=dims\n",
      "        Key : Lower : Value : Upper : Fixed : Stale : Domain\n",
      "          1 :     0 :  None :  None : False :  True : NonNegativeIntegers\n",
      "          2 :     0 :  None :  None : False :  True : NonNegativeIntegers\n",
      "\n",
      "1 Objective Declarations\n",
      "    OBJ : Size=1, Index=None, Active=True\n",
      "        Key  : Active : Sense    : Expression\n",
      "        None :   True : maximize : 2*x[1] + 3*x[2]\n",
      "\n",
      "1 Constraint Declarations\n",
      "    Constraint1 : Size=1, Index=None, Active=True\n",
      "        Key  : Lower : Body               : Upper : Active\n",
      "        None :  -Inf : 3*x[1]**2 + 4*x[2] :  10.0 :   True\n",
      "\n",
      "4 Declarations: dims x OBJ Constraint1\n"
     ]
    }
   ],
   "source": [
    "print(\"Defined model\")\n",
    "print(\"=\" * 20)\n",
    "model.pprint()"
   ]
  },
  {
   "cell_type": "markdown",
   "id": "da06152d",
   "metadata": {},
   "source": [
    "## 3.2 Solve model"
   ]
  },
  {
   "cell_type": "code",
   "execution_count": 65,
   "id": "ea5c5039",
   "metadata": {},
   "outputs": [
    {
     "data": {
      "text/plain": [
       "{'Problem': [{'Lower bound': -inf, 'Upper bound': inf, 'Number of objectives': 1, 'Number of constraints': 1, 'Number of variables': 2, 'Sense': 'unknown'}], 'Solver': [{'Status': 'ok', 'Message': 'Ipopt 3.14.7\\\\x3a Optimal Solution Found', 'Termination condition': 'optimal', 'Id': 0, 'Error rc': 0, 'Time': 0.027959823608398438}], 'Solution': [OrderedDict([('number of solutions', 0), ('number of solutions displayed', 0)])]}"
      ]
     },
     "execution_count": 65,
     "metadata": {},
     "output_type": "execute_result"
    }
   ],
   "source": [
    "pe.SolverFactory(\"ipopt\").solve(model)"
   ]
  },
  {
   "cell_type": "code",
   "execution_count": 66,
   "id": "b154a97a",
   "metadata": {},
   "outputs": [
    {
     "name": "stdout",
     "output_type": "stream",
     "text": [
      "\n",
      "\n",
      "Solution\n",
      "====================\n",
      "x : Size=2, Index=dims\n",
      "    Key : Lower : Value              : Upper : Fixed : Stale : Domain\n",
      "      1 :     0 : 0.4444444455415329 :  None : False : False : NonNegativeIntegers\n",
      "      2 :     0 : 2.3518518752855013 :  None : False : False : NonNegativeIntegers\n"
     ]
    }
   ],
   "source": [
    "print(\"\\n\")\n",
    "print(\"Solution\")\n",
    "print(\"=\"*20)\n",
    "model.x.display()"
   ]
  },
  {
   "cell_type": "markdown",
   "id": "b1c145f0",
   "metadata": {},
   "source": [
    "# 4. Visualise solution"
   ]
  },
  {
   "cell_type": "code",
   "execution_count": 67,
   "id": "d4b86c63",
   "metadata": {},
   "outputs": [
    {
     "data": {
      "image/png": "[encoded data removed]",
      "text/plain": [
       "<Figure size 864x576 with 1 Axes>"
      ]
     },
     "metadata": {
      "needs_background": "light"
     },
     "output_type": "display_data"
    }
   ],
   "source": [
    "plt.figure(figsize=(12, 8))\n",
    "\n",
    "# draw constraints\n",
    "# 𝑥1,𝑥2>0\n",
    "plt.axvline(x=0, c=\"blue\", label=\"x_1 >0\")\n",
    "plt.axhline(y=0, c=\"orange\", label=\"x_2 >0\")\n",
    "\n",
    "# constraint 3𝑥_1 * 𝑥_2 <=10\n",
    "x1 = np.arange(-1, 3, 0.1)\n",
    "x2 = [(10-3*x**2)/4 for x in x1]\n",
    "plt.plot(x1, x2, c=\"black\", label=\"3x_1 + 4x_2 <= 10\")\n",
    "\n",
    "# traingle of possible solutions\n",
    "plt.fill_between(x1, x2, 0, where=((x1>=-0.0001) & (x1<=np.sqrt(10/3))), \n",
    "                 color=\"green\", alpha=0.5, label=\"Feasible region\")\n",
    "\n",
    "# plot solution\n",
    "plt.scatter(x=pe.value(model.x[1]), y=pe.value(model.x[2]), c=\"red\", s=100, label=\"Solution\")\n",
    "\n",
    "# plot config\n",
    "plt.xlim(-1, 3)\n",
    "plt.ylim(-1, 6)\n",
    "plt.xlabel(\"x1\", size=14)\n",
    "plt.ylabel(\"x2\", size=14)\n",
    "plt.legend()\n",
    "plt.show()"
   ]
  },
  {
   "cell_type": "code",
   "execution_count": null,
   "id": "f97730cf",
   "metadata": {},
   "outputs": [],
   "source": []
  }
 ],
 "metadata": {
  "kernelspec": {
   "display_name": "Python 3 (ipykernel)",
   "language": "python",
   "name": "python3"
  },
  "language_info": {
   "codemirror_mode": {
    "name": "ipython",
    "version": 3
   },
   "file_extension": ".py",
   "mimetype": "text/x-python",
   "name": "python",
   "nbconvert_exporter": "python",
   "pygments_lexer": "ipython3",
   "version": "3.8.12"
  }
 },
 "nbformat": 4,
 "nbformat_minor": 5
}
