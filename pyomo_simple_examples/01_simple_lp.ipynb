{
 "cells": [
  {
   "cell_type": "markdown",
   "id": "245bf754",
   "metadata": {},
   "source": [
    "$$ \n",
    "max\\ 2x_1 + 3x_2 \\\\\n",
    "s.t.\\ 3x_1 + 4x_2 <= 10 \\\\\n",
    "x_1, x_2 >0 \\\\\n",
    "x_1, x_2 \\subset\\ \\mathbb{R}\n",
    "$$ "
   ]
  },
  {
   "cell_type": "markdown",
   "id": "953a37aa",
   "metadata": {},
   "source": [
    "# 1. Import libraries"
   ]
  },
  {
   "cell_type": "code",
   "execution_count": 119,
   "id": "f94a514f",
   "metadata": {},
   "outputs": [],
   "source": [
    "import pyomo.environ as pe\n",
    "import numpy as np\n",
    "import matplotlib.pyplot as plt"
   ]
  },
  {
   "cell_type": "markdown",
   "id": "9420fadd",
   "metadata": {},
   "source": [
    "# 2. Visualise simple problem"
   ]
  },
  {
   "cell_type": "code",
   "execution_count": 122,
   "id": "3927c2fc",
   "metadata": {},
   "outputs": [
    {
     "data": {
      "image/png": "[encoded data removed]",
      "text/plain": [
       "<Figure size 864x576 with 1 Axes>"
      ]
     },
     "metadata": {
      "needs_background": "light"
     },
     "output_type": "display_data"
    }
   ],
   "source": [
    "fig= plt.figure(figsize=(12, 8))\n",
    "\n",
    "# draw constraints\n",
    "# 𝑥1,𝑥2>0\n",
    "plt.axvline(x=0, c=\"blue\", label=\"x_1 >=0\")\n",
    "plt.axhline(y=0, c=\"orange\", label=\"x_2 >=0\")\n",
    "# constraint 3𝑥_1+4𝑥_2<=10\n",
    "x1 = np.arange(-1, 6, 0.1)\n",
    "x2 = [(10-3*x)/4 for x in x1]\n",
    "plt.plot(x1, x2, c=\"black\", label=\"3x_1 + 4x_2 <= 10\")\n",
    "\n",
    "# traingle of possible solutions\n",
    "plt.fill_between([0, 0, 10/3], [0, 10/4, 0], color=\"green\", alpha=0.5, label=\"Feasible region\")\n",
    "\n",
    "# plot config\n",
    "plt.xlim(-1, 6)\n",
    "plt.ylim(-1, 6)\n",
    "plt.xlabel(\"x1\", size=14)\n",
    "plt.ylabel(\"x2\", size=14)\n",
    "plt.legend()\n",
    "\n",
    "plt.show()"
   ]
  },
  {
   "cell_type": "markdown",
   "id": "91363d6f",
   "metadata": {},
   "source": [
    "# 3. Formulate problem"
   ]
  },
  {
   "cell_type": "markdown",
   "id": "62cd0ba0",
   "metadata": {},
   "source": [
    "## 3.1 Define model, objective and constraints"
   ]
  },
  {
   "cell_type": "code",
   "execution_count": 150,
   "id": "c901ecf3",
   "metadata": {},
   "outputs": [],
   "source": [
    "# instantiate a concrete model\n",
    "model = pe.ConcreteModel()\n",
    "\n",
    "# create variables (the ones we want to find a solution for)\n",
    "model.x1 = pe.Var(domain=pe.NonNegativeReals)\n",
    "model.x2 = pe.Var(domain=pe.NonNegativeReals)\n",
    "\n",
    "# define objective\n",
    "model.OBJ = pe.Objective(expr=2*model.x1 + 3*model.x2, sense=pe.maximize)\n",
    "\n",
    "# define constraints\n",
    "model.Constraint1 = pe.Constraint(expr=3*model.x1 + 4*model.x2 <= 10)"
   ]
  },
  {
   "cell_type": "code",
   "execution_count": 151,
   "id": "5ac4d31c",
   "metadata": {},
   "outputs": [
    {
     "name": "stdout",
     "output_type": "stream",
     "text": [
      "Defined model\n",
      "====================\n",
      "2 Var Declarations\n",
      "    x1 : Size=1, Index=None\n",
      "        Key  : Lower : Value : Upper : Fixed : Stale : Domain\n",
      "        None :     0 :  None :  None : False :  True : NonNegativeReals\n",
      "    x2 : Size=1, Index=None\n",
      "        Key  : Lower : Value : Upper : Fixed : Stale : Domain\n",
      "        None :     0 :  None :  None : False :  True : NonNegativeReals\n",
      "\n",
      "1 Objective Declarations\n",
      "    OBJ : Size=1, Index=None, Active=True\n",
      "        Key  : Active : Sense    : Expression\n",
      "        None :   True : maximize : 2*x1 + 3*x2\n",
      "\n",
      "1 Constraint Declarations\n",
      "    Constraint1 : Size=1, Index=None, Active=True\n",
      "        Key  : Lower : Body        : Upper : Active\n",
      "        None :  -Inf : 3*x1 + 4*x2 :  10.0 :   True\n",
      "\n",
      "4 Declarations: x1 x2 OBJ Constraint1\n"
     ]
    }
   ],
   "source": [
    "print(\"Defined model\")\n",
    "print(\"=\" * 20)\n",
    "model.pprint()"
   ]
  },
  {
   "cell_type": "markdown",
   "id": "b35519f0",
   "metadata": {},
   "source": [
    "## 3.2 Solve model"
   ]
  },
  {
   "cell_type": "code",
   "execution_count": 152,
   "id": "e9441828",
   "metadata": {},
   "outputs": [
    {
     "data": {
      "text/plain": [
       "{'Problem': [{'Name': 'unknown', 'Lower bound': 7.5, 'Upper bound': 7.5, 'Number of objectives': 1, 'Number of constraints': 2, 'Number of variables': 3, 'Number of nonzeros': 3, 'Sense': 'maximize'}], 'Solver': [{'Status': 'ok', 'Termination condition': 'optimal', 'Statistics': {'Branch and bound': {'Number of bounded subproblems': 0, 'Number of created subproblems': 0}}, 'Error rc': 0, 'Time': 0.012261152267456055}], 'Solution': [OrderedDict([('number of solutions', 0), ('number of solutions displayed', 0)])]}"
      ]
     },
     "execution_count": 152,
     "metadata": {},
     "output_type": "execute_result"
    }
   ],
   "source": [
    "pe.SolverFactory(\"glpk\").solve(model)"
   ]
  },
  {
   "cell_type": "code",
   "execution_count": 153,
   "id": "c5f7fd0c",
   "metadata": {},
   "outputs": [
    {
     "name": "stdout",
     "output_type": "stream",
     "text": [
      "\n",
      "\n",
      "Solution\n",
      "====================\n",
      "x1 : Size=1, Index=None\n",
      "    Key  : Lower : Value : Upper : Fixed : Stale : Domain\n",
      "    None :     0 :   0.0 :  None : False : False : NonNegativeReals\n",
      "x2 : Size=1, Index=None\n",
      "    Key  : Lower : Value : Upper : Fixed : Stale : Domain\n",
      "    None :     0 :   2.5 :  None : False : False : NonNegativeReals\n"
     ]
    }
   ],
   "source": [
    "print(\"\\n\")\n",
    "print(\"Solution\")\n",
    "print(\"=\"*20)\n",
    "model.x1.display()\n",
    "model.x2.display()"
   ]
  },
  {
   "cell_type": "markdown",
   "id": "c7baf02d",
   "metadata": {},
   "source": [
    "# 4. Visualise solution"
   ]
  },
  {
   "cell_type": "code",
   "execution_count": 154,
   "id": "7b44933c",
   "metadata": {},
   "outputs": [
    {
     "data": {
      "image/png": "[encoded data removed]",
      "text/plain": [
       "<Figure size 864x576 with 1 Axes>"
      ]
     },
     "metadata": {
      "needs_background": "light"
     },
     "output_type": "display_data"
    }
   ],
   "source": [
    "fig= plt.figure(figsize=(12, 8))\n",
    "\n",
    "# draw constraints\n",
    "# 𝑥1,𝑥2>0\n",
    "plt.axvline(x=0, c=\"blue\", label=\"x_1 >=0\")\n",
    "plt.axhline(y=0, c=\"orange\", label=\"x_2 >=0\")\n",
    "# constraint 3𝑥_1+4𝑥_2<=10\n",
    "x1 = np.arange(-1, 6, 0.1)\n",
    "x2 = [(10-3*x)/4 for x in x1]\n",
    "plt.plot(x1, x2, c=\"black\", label=\"3x_1 + 4x_2 <= 10\")\n",
    "\n",
    "# traingle of possible solutions\n",
    "plt.fill_between([0, 0, 10/3], [0, 10/4, 0], color=\"green\", alpha=0.5, label=\"Feasible region\")\n",
    "\n",
    "# plot solution\n",
    "plt.scatter(x=pe.value(model.x1), y=pe.value(model.x2), c=\"red\", s=100, label=\"Solution\")\n",
    "\n",
    "# plot config\n",
    "plt.xlim(-1, 6)\n",
    "plt.ylim(-1, 6)\n",
    "plt.xlabel(\"x1\", size=14)\n",
    "plt.ylabel(\"x2\", size=14)\n",
    "plt.legend()\n",
    "plt.show()"
   ]
  },
  {
   "cell_type": "markdown",
   "id": "832c86c2",
   "metadata": {},
   "source": [
    "# 5. Same problem using Sets"
   ]
  },
  {
   "cell_type": "markdown",
   "id": "3632fd7b",
   "metadata": {},
   "source": [
    "* We don't need to declare each variable on its own\n",
    "* Instead, we can use pyomo sets to define what shape the Var variable (optimised solutions) should have\n",
    "* pyomo Var, Param variables can be sliced similarly to numpy arrays"
   ]
  },
  {
   "cell_type": "code",
   "execution_count": 156,
   "id": "b0560212",
   "metadata": {},
   "outputs": [],
   "source": [
    "# instantiate a concrete model\n",
    "model = pe.ConcreteModel()\n",
    "\n",
    "# define sets\n",
    "model.dims = pe.Set(initialize=[1, 2], domain=pe.NonNegativeIntegers)\n",
    "\n",
    "# create variables (the ones we want to find a solution for)\n",
    "model.x = pe.Var(model.dims, domain=pe.NonNegativeReals)\n",
    "\n",
    "# define objective\n",
    "model.OBJ = pe.Objective(expr=2*model.x[1] + 3*model.x[2], sense=pe.maximize)\n",
    "\n",
    "# define constraints\n",
    "model.Constraint1 = pe.Constraint(expr=3*model.x[1] + 4*model.x[2] <= 10)"
   ]
  },
  {
   "cell_type": "code",
   "execution_count": 157,
   "id": "17ede654",
   "metadata": {},
   "outputs": [
    {
     "name": "stdout",
     "output_type": "stream",
     "text": [
      "Defined model\n",
      "====================\n",
      "1 Set Declarations\n",
      "    dims : Size=1, Index=None, Ordered=Insertion\n",
      "        Key  : Dimen : Domain              : Size : Members\n",
      "        None :     1 : NonNegativeIntegers :    2 : {1, 2}\n",
      "\n",
      "1 Var Declarations\n",
      "    x : Size=2, Index=dims\n",
      "        Key : Lower : Value : Upper : Fixed : Stale : Domain\n",
      "          1 :     0 :  None :  None : False :  True : NonNegativeReals\n",
      "          2 :     0 :  None :  None : False :  True : NonNegativeReals\n",
      "\n",
      "1 Objective Declarations\n",
      "    OBJ : Size=1, Index=None, Active=True\n",
      "        Key  : Active : Sense    : Expression\n",
      "        None :   True : maximize : 2*x[1] + 3*x[2]\n",
      "\n",
      "1 Constraint Declarations\n",
      "    Constraint1 : Size=1, Index=None, Active=True\n",
      "        Key  : Lower : Body            : Upper : Active\n",
      "        None :  -Inf : 3*x[1] + 4*x[2] :  10.0 :   True\n",
      "\n",
      "4 Declarations: dims x OBJ Constraint1\n"
     ]
    }
   ],
   "source": [
    "print(\"Defined model\")\n",
    "print(\"=\" * 20)\n",
    "model.pprint()"
   ]
  },
  {
   "cell_type": "code",
   "execution_count": 158,
   "id": "1092ad6c",
   "metadata": {},
   "outputs": [
    {
     "data": {
      "text/plain": [
       "{'Problem': [{'Name': 'unknown', 'Lower bound': 7.5, 'Upper bound': 7.5, 'Number of objectives': 1, 'Number of constraints': 2, 'Number of variables': 3, 'Number of nonzeros': 3, 'Sense': 'maximize'}], 'Solver': [{'Status': 'ok', 'Termination condition': 'optimal', 'Statistics': {'Branch and bound': {'Number of bounded subproblems': 0, 'Number of created subproblems': 0}}, 'Error rc': 0, 'Time': 0.012325048446655273}], 'Solution': [OrderedDict([('number of solutions', 0), ('number of solutions displayed', 0)])]}"
      ]
     },
     "execution_count": 158,
     "metadata": {},
     "output_type": "execute_result"
    }
   ],
   "source": [
    "pe.SolverFactory(\"glpk\").solve(model)"
   ]
  },
  {
   "cell_type": "code",
   "execution_count": 159,
   "id": "c349e880",
   "metadata": {},
   "outputs": [
    {
     "name": "stdout",
     "output_type": "stream",
     "text": [
      "x : Size=2, Index=dims\n",
      "    Key : Lower : Value : Upper : Fixed : Stale : Domain\n",
      "      1 :     0 :   0.0 :  None : False : False : NonNegativeReals\n",
      "      2 :     0 :   2.5 :  None : False : False : NonNegativeReals\n"
     ]
    }
   ],
   "source": [
    "model.x.display()"
   ]
  },
  {
   "cell_type": "code",
   "execution_count": 160,
   "id": "25bbea36",
   "metadata": {},
   "outputs": [
    {
     "data": {
      "image/png": "[encoded data removed]",
      "text/plain": [
       "<Figure size 864x576 with 1 Axes>"
      ]
     },
     "metadata": {
      "needs_background": "light"
     },
     "output_type": "display_data"
    }
   ],
   "source": [
    "fig= plt.figure(figsize=(12, 8))\n",
    "\n",
    "# draw constraints\n",
    "# 𝑥1,𝑥2>0\n",
    "plt.axvline(x=0, c=\"blue\", label=\"x_1 >=0\")\n",
    "plt.axhline(y=0, c=\"orange\", label=\"x_2 >=0\")\n",
    "# constraint 3𝑥_1+4𝑥_2<=10\n",
    "x1 = np.arange(-1, 6, 0.1)\n",
    "x2 = [(10-3*x)/4 for x in x1]\n",
    "plt.plot(x1, x2, c=\"black\", label=\"3x_1 + 4x_2 <= 10\")\n",
    "\n",
    "# traingle of possible solutions\n",
    "plt.fill_between([0, 0, 10/3], [0, 10/4, 0], color=\"green\", alpha=0.5, label=\"Feasible region\")\n",
    "\n",
    "# plot solution\n",
    "plt.scatter(x=pe.value(model.x[1]), y=pe.value(model.x[2]), c=\"red\", s=100, label=\"Solution\")\n",
    "\n",
    "# plot config\n",
    "plt.xlim(-1, 6)\n",
    "plt.ylim(-1, 6)\n",
    "plt.xlabel(\"x1\", size=14)\n",
    "plt.ylabel(\"x2\", size=14)\n",
    "plt.legend()\n",
    "plt.show()"
   ]
  },
  {
   "cell_type": "code",
   "execution_count": null,
   "id": "48b43412",
   "metadata": {},
   "outputs": [],
   "source": []
  }
 ],
 "metadata": {
  "kernelspec": {
   "display_name": "Python 3 (ipykernel)",
   "language": "python",
   "name": "python3"
  },
  "language_info": {
   "codemirror_mode": {
    "name": "ipython",
    "version": 3
   },
   "file_extension": ".py",
   "mimetype": "text/x-python",
   "name": "python",
   "nbconvert_exporter": "python",
   "pygments_lexer": "ipython3",
   "version": "3.8.12"
  }
 },
 "nbformat": 4,
 "nbformat_minor": 5
}
